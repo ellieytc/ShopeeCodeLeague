{
 "cells": [
  {
   "cell_type": "markdown",
   "metadata": {},
   "source": [
    "Cg = (Xg, Yg) = (6, 7) #GeoFi的座標\n",
    "\n",
    "Ca = (Xa, Ya) = (10, 5) #AirFi的座標\n",
    "\n",
    "Q = 5 --> (Rg, Ra) = (4,3), (3,3), (9,3), (8,3), (3,2)\n",
    "\n",
    "算出5個hubs的範圍 (圓面積)\n",
    "\n",
    "工程師座標 N = 11\n",
    "\n",
    "\n",
    "判斷 N個工程師座標有沒有在5個圓範圍內\n"
   ]
  },
  {
   "cell_type": "code",
   "execution_count": 60,
   "metadata": {},
   "outputs": [],
   "source": [
    "import matplotlib.pyplot as plt \n",
    "import numpy as np "
   ]
  },
  {
   "cell_type": "code",
   "execution_count": 92,
   "metadata": {},
   "outputs": [],
   "source": [
    "def get_intercetions(x0, y0, r0, x1, y1, r1):\n",
    "    # circle 1: (x0, y0), radius r0\n",
    "    # circle 2: (x1, y1), radius r1\n",
    "\n",
    "    d=math.sqrt((x1-x0)**2 + (y1-y0)**2)\n",
    "\n",
    "    # non intersecting\n",
    "    if d > r0 + r1 :\n",
    "        return None\n",
    "    # One circle within other\n",
    "    if d < abs(r0-r1):\n",
    "        return None\n",
    "    # coincident circles\n",
    "    if d == 0 and r0 == r1:\n",
    "        return None\n",
    "    else:\n",
    "        a=(r0**2-r1**2+d**2)/(2*d)\n",
    "        h=math.sqrt(r0**2-a**2)\n",
    "        x2=x0+a*(x1-x0)/d   \n",
    "        y2=y0+a*(y1-y0)/d   \n",
    "        x3=x2+h*(y1-y0)/d     \n",
    "        y3=y2-h*(x1-x0)/d \n",
    "\n",
    "        x4=x2-h*(y1-y0)/d\n",
    "        y4=y2+h*(x1-x0)/d\n",
    "\n",
    "        return (x3, y3, x4, y4)"
   ]
  },
  {
   "cell_type": "code",
   "execution_count": 93,
   "metadata": {},
   "outputs": [
    {
     "data": {
      "image/png": "[encoded data removed]",
      "text/plain": [
       "<Figure size 432x288 with 1 Axes>"
      ]
     },
     "metadata": {
      "needs_background": "light"
     },
     "output_type": "display_data"
    }
   ],
   "source": [
    "# intersection circles\n",
    "x0, y0 = 6, 7\n",
    "r0 = 4\n",
    "x1, y1 = 10, 5\n",
    "r1 = 3\n",
    "\n",
    "# intersecting with (x1, y1) but not with (x0, y0)\n",
    "\n",
    "circle1 = plt.Circle((x0, y0), r0, color='b', fill=False)\n",
    "circle2 = plt.Circle((x1, y1), r1, color='b', fill=False)\n",
    "\n",
    "fig, ax = plt.subplots() \n",
    "ax.set_xlim((0, 20))\n",
    "ax.set_ylim((0, 20))\n",
    "ax.add_artist(circle1)\n",
    "ax.add_artist(circle2)\n",
    "\n",
    "intersections = get_intercetions(x0, y0, r0, x1, y1, r1)\n",
    "if intersections is not None:\n",
    "    i_x3, i_y3, i_x4, i_y4 = intersections \n",
    "    plt.plot([i_x3, i_x4], [i_y3, i_y4], '.', color='r')\n",
    "\n",
    "intersections = get_intercetions(x0, y0, r0, x2, y2, r2)\n",
    "if intersections is not None:\n",
    "    i_x3, i_y3, i_x4, i_y4 = intersections \n",
    "    plt.plot([i_x3, i_x4], [i_y3, i_y4], '.', color='r')\n",
    "\n",
    "intersections = get_intercetions(x1, y1, r1, x2, y2, r2)\n",
    "if intersections is not None:\n",
    "    i_x3, i_y3, i_x4, i_y4 = intersections \n",
    "    plt.plot([i_x3, i_x4], [i_y3, i_y4], '.', color='r')\n",
    "\n",
    "plt.gca().set_aspect('equal', adjustable='box')\n"
   ]
  },
  {
   "cell_type": "code",
   "execution_count": 101,
   "metadata": {},
   "outputs": [
    {
     "name": "stdout",
     "output_type": "stream",
     "text": [
      "(7.526330540569449, 3.3026610811389006) (9.873669459430548, 7.9973389188611)\n"
     ]
    }
   ],
   "source": [
    "d=math.sqrt((x1-x0)**2 + (y1-y0)**2)\n",
    "x0, y0 = 6, 7\n",
    "r0 = 4\n",
    "x1, y1 = 10, 5\n",
    "r1 = 3\n",
    "\n",
    "\n",
    "a=(r0**2-r1**2+d**2)/(2*d)\n",
    "h=math.sqrt(r0**2-a**2)\n",
    "x2=x0+a*(x1-x0)/d   \n",
    "y2=y0+a*(y1-y0)/d   \n",
    "x3=x2+h*(y1-y0)/d     \n",
    "y3=y2-h*(x1-x0)/d \n",
    "\n",
    "x4=x2-h*(y1-y0)/d\n",
    "y4=y2+h*(x1-x0)/d\n",
    "\n",
    "print((x3, y3), (x4, y4))"
   ]
  },
  {
   "cell_type": "code",
   "execution_count": 110,
   "metadata": {},
   "outputs": [
    {
     "name": "stdout",
     "output_type": "stream",
     "text": [
      "[(19, 3), (13, 9), (17, 13), (18, 0), (11, 1), (10, 8), (15, 11), (14, 6), (10, 14), (17, 14), (5, 3)]\n"
     ]
    }
   ],
   "source": [
    "#N = int(input()) #輸入工程師人數\n",
    "#隨機產生N個座標\n",
    "#if (x, y) in (x3, y3, x4, y4) or not in zip(circle1, circle2)\n",
    "    #return N的個數\n",
    "    \n",
    "circle1 = plt.Circle((x0, y0), r0, color='b', fill=False)\n",
    "\n",
    "import random\n",
    "from random import randrange\n",
    "\n",
    "N = 11\n",
    "coords = [(randrange(20) , randrange(20) ) for _ in range(N)]\n",
    "print(coords)\n",
    "\n",
    "for c in coords:\n",
    "    if c > (x3, y3) and c < (x4, y4):\n",
    "        N += 1\n",
    "        print(N-1)"
   ]
  },
  {
   "cell_type": "code",
   "execution_count": null,
   "metadata": {},
   "outputs": [],
   "source": []
  },
  {
   "cell_type": "code",
   "execution_count": null,
   "metadata": {},
   "outputs": [],
   "source": []
  }
 ],
 "metadata": {
  "kernelspec": {
   "display_name": "Python 3",
   "language": "python",
   "name": "python3"
  },
  "language_info": {
   "codemirror_mode": {
    "name": "ipython",
    "version": 3
   },
   "file_extension": ".py",
   "mimetype": "text/x-python",
   "name": "python",
   "nbconvert_exporter": "python",
   "pygments_lexer": "ipython3",
   "version": "3.7.7"
  }
 },
 "nbformat": 4,
 "nbformat_minor": 4
}
